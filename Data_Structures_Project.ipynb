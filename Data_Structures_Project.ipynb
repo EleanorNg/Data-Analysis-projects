{
  "nbformat": 4,
  "nbformat_minor": 0,
  "metadata": {
    "colab": {
      "name": "Copy of 4. Data Structures Project.ipynb",
      "provenance": [],
      "collapsed_sections": [],
      "include_colab_link": true
    },
    "kernelspec": {
      "name": "python3",
      "display_name": "Python 3"
    }
  },
  "cells": [
    {
      "cell_type": "markdown",
      "metadata": {
        "id": "view-in-github",
        "colab_type": "text"
      },
      "source": [
        "<a href=\"https://colab.research.google.com/github/EleanorNg/Data-Analysis-projects/blob/main/Data_Structures_Project.ipynb\" target=\"_parent\"><img src=\"https://colab.research.google.com/assets/colab-badge.svg\" alt=\"Open In Colab\"/></a>"
      ]
    },
    {
      "cell_type": "markdown",
      "metadata": {
        "id": "YAmw_s-VtIaV"
      },
      "source": [
        "# Project - APIs and Data Structures\n",
        "Description select one of the following APIs. Read the instruction on how to access the information from it. Access the data from the API. Analyze the content.\n",
        "\n",
        "Steps to do:\n",
        "1. Select an API\n",
        "2. Read the documentation for the API\n",
        "3. Analyze the content\n",
        "\n",
        "--- \n",
        "# Questions\n",
        "1. What kind of data can you get from the API?\n",
        "2. Does the data contain lists? What is the content of these lists?\n",
        "3. Does the data contain dictionaries? What is the content of the dictionaries?\n",
        "\n",
        "Recommended API:\n",
        "- https://jobs.github.com/api\n",
        "\n",
        "More APIs:\n",
        "- https://www.alphavantage.co/\n",
        "- https://github.com/workforce-data-initiative/skills-api/wiki/API-Overview\n",
        "- https://www.quandl.com/\n",
        "- https://vpic.nhtsa.dot.gov/api/\n",
        "- https://github.com/openaddresses/openaddresses"
      ]
    },
    {
      "cell_type": "code",
      "source": [
        "# Imports\n",
        "import pandas as pd\n",
        "import plotly\n",
        "import requests"
      ],
      "metadata": {
        "id": "m3sRHZtKrZ-Z"
      },
      "execution_count": null,
      "outputs": []
    },
    {
      "cell_type": "code",
      "source": [
        "import requests\n",
        "\n",
        "# replace the \"demo\" apikey below with your own key from https://www.alphavantage.co/support/#api-key\n",
        "url = 'https://www.alphavantage.co/query?function=TIME_SERIES_INTRADAY&symbol=IBM&interval=5min&apikey=C9LPTBVEZW1L1S9Z'\n",
        "alphavantage = requests.get(url)\n",
        "alphavantage = alphavantage.json()"
      ],
      "metadata": {
        "id": "NLENPbC7ta9Y"
      },
      "execution_count": null,
      "outputs": []
    },
    {
      "cell_type": "code",
      "source": [
        "alphavantage"
      ],
      "metadata": {
        "id": "OUw33l8ZuvmC"
      },
      "execution_count": null,
      "outputs": []
    },
    {
      "cell_type": "code",
      "source": [
        "type(alphavantage)"
      ],
      "metadata": {
        "id": "DKLPgVryvGAB",
        "outputId": "95d52074-9281-49b5-8b47-247376720836",
        "colab": {
          "base_uri": "https://localhost:8080/"
        }
      },
      "execution_count": null,
      "outputs": [
        {
          "output_type": "execute_result",
          "data": {
            "text/plain": [
              "dict"
            ]
          },
          "metadata": {},
          "execution_count": 12
        }
      ]
    },
    {
      "cell_type": "code",
      "source": [
        "url1 = 'https://vpic.nhtsa.dot.gov/api/vehicles/decodevin/5UXWX7C5*BA?format=json&modelyear=2011'\n",
        "decode_vin = requests.get(url1, timeout = 5)\n",
        "decode_vin = decode_vin.json()[\"Results\"]"
      ],
      "metadata": {
        "id": "R1G2r7qRvU0J"
      },
      "execution_count": null,
      "outputs": []
    },
    {
      "cell_type": "code",
      "source": [
        "type(decode_vin)"
      ],
      "metadata": {
        "id": "VF0J5zvEr6Jq",
        "outputId": "4d48be77-c207-4fce-e75e-2b499166b04d",
        "colab": {
          "base_uri": "https://localhost:8080/"
        }
      },
      "execution_count": null,
      "outputs": [
        {
          "output_type": "execute_result",
          "data": {
            "text/plain": [
              "list"
            ]
          },
          "metadata": {},
          "execution_count": 26
        }
      ]
    },
    {
      "cell_type": "code",
      "source": [
        "decode_vin"
      ],
      "metadata": {
        "id": "e7HO0McTzcrY"
      },
      "execution_count": null,
      "outputs": []
    },
    {
      "cell_type": "code",
      "source": [
        "decode_vin[1]"
      ],
      "metadata": {
        "id": "GHT3JrxusRtl",
        "outputId": "785eb686-6b94-4db7-903d-005dc87edc8c",
        "colab": {
          "base_uri": "https://localhost:8080/"
        }
      },
      "execution_count": null,
      "outputs": [
        {
          "output_type": "execute_result",
          "data": {
            "text/plain": [
              "{'Value': '6', 'ValueId': '6', 'Variable': 'Error Code', 'VariableId': 143}"
            ]
          },
          "metadata": {},
          "execution_count": 16
        }
      ]
    },
    {
      "cell_type": "code",
      "source": [
        "decode_vin[1].keys()"
      ],
      "metadata": {
        "id": "apJ6M_L-taH_",
        "outputId": "fae584be-d78f-442f-d20d-44d4ab682d39",
        "colab": {
          "base_uri": "https://localhost:8080/"
        }
      },
      "execution_count": null,
      "outputs": [
        {
          "output_type": "execute_result",
          "data": {
            "text/plain": [
              "dict_keys(['Value', 'ValueId', 'Variable', 'VariableId'])"
            ]
          },
          "metadata": {},
          "execution_count": 20
        }
      ]
    },
    {
      "cell_type": "code",
      "source": [
        "decode_vin[1].values()"
      ],
      "metadata": {
        "id": "puii2xGOvSt5",
        "outputId": "4f2104db-3a98-40cb-92dd-e68b54d4a3e8",
        "colab": {
          "base_uri": "https://localhost:8080/"
        }
      },
      "execution_count": null,
      "outputs": [
        {
          "output_type": "execute_result",
          "data": {
            "text/plain": [
              "dict_values(['6', '6', 'Error Code', 143])"
            ]
          },
          "metadata": {},
          "execution_count": 21
        }
      ]
    },
    {
      "cell_type": "code",
      "source": [
        "case_list = [item['Value']for item in decode_vin]\n",
        "case_list"
      ],
      "metadata": {
        "id": "WBaeDBA0vsxn"
      },
      "execution_count": null,
      "outputs": []
    },
    {
      "cell_type": "markdown",
      "source": [
        "1. The data contains the decoded VIN(Vehicle Identification Number) of vehicles with the model year 2011. The list contains dictionaries.\n",
        "2. Yes. The content of the list is dictionaries with keys \n",
        "3. Yes The content of the dictionaries are the values of the keys."
      ],
      "metadata": {
        "id": "0XsyxQ_BulO7"
      }
    },
    {
      "cell_type": "markdown",
      "source": [
        ""
      ],
      "metadata": {
        "id": "pHgjIG56uOa7"
      }
    },
    {
      "cell_type": "markdown",
      "metadata": {
        "id": "xnQMN5CQt90T"
      },
      "source": [
        "--- \n",
        "# Review\n",
        "\n",
        "This section is only for the reviewing team!\n",
        "\n",
        "Guideline how to review:\n",
        "https://docs.google.com/presentation/d/1YORFwlfVQo9ogj7jR9t6_pqxmGIlpBSGubbp1UdtcBQ/edit?usp=sharing\n"
      ]
    },
    {
      "cell_type": "code",
      "metadata": {
        "id": "t_oU8YSOt-b0",
        "cellView": "form",
        "colab": {
          "base_uri": "https://localhost:8080/",
          "height": 167
        },
        "outputId": "93ddd7eb-1532-463c-9ad1-37939b5ae501"
      },
      "source": [
        "#@title Review Criteria:\n",
        "%%html\n",
        "<h3><input type=\"checkbox\"> 1. Are all questions answered? <br></h3> \n",
        "<h3><input type=\"checkbox\"> 2. Does all code run through? <br></h3> \n",
        "<h3><input type=\"checkbox\"> 3. Are the conclusions understandable?  <br></h3> \n",
        "<h3><input type=\"checkbox\"> 4. Are the bonus question answered?  <br></h3> "
      ],
      "execution_count": null,
      "outputs": [
        {
          "output_type": "display_data",
          "data": {
            "text/html": [
              "<h3><input type=\"checkbox\"> 1. Are all questions answered? <br></h3> \n",
              "<h3><input type=\"checkbox\"> 2. Does all code run through? <br></h3> \n",
              "<h3><input type=\"checkbox\"> 3. Are the conclusions understandable?  <br></h3> \n",
              "<h3><input type=\"checkbox\"> 4. Are the bonus question answered?  <br></h3> "
            ],
            "text/plain": [
              "<IPython.core.display.HTML object>"
            ]
          },
          "metadata": {
            "tags": []
          }
        }
      ]
    },
    {
      "cell_type": "code",
      "metadata": {
        "id": "fRTB2f8LuOsP"
      },
      "source": [
        "input(\"Do you have any feedback?\")"
      ],
      "execution_count": null,
      "outputs": []
    }
  ]
}